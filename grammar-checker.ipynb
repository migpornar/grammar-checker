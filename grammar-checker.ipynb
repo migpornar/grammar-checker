{
 "cells": [
  {
   "cell_type": "markdown",
   "metadata": {},
   "source": [
    "## Trabajo PLN I. Corrector ortográfico"
   ]
  },
  {
   "cell_type": "markdown",
   "metadata": {},
   "source": [
    "### Autores:\n",
    "\n",
    "   **- Porras Naranjo, Miguel Ángel**\n",
    "   \n",
    "   **- Terrón Dastis, Pedro**"
   ]
  },
  {
   "cell_type": "markdown",
   "metadata": {},
   "source": [
    "Volveremos a usar la función `word_tokenize` de la librería `nltk`."
   ]
  },
  {
   "cell_type": "code",
   "execution_count": 5,
   "metadata": {
    "collapsed": false
   },
   "outputs": [],
   "source": [
    "from nltk import word_tokenize"
   ]
  },
  {
   "cell_type": "markdown",
   "metadata": {},
   "source": [
    "Basandonos en el siguiente corpus (https://github.com/javierarce/palabras/blob/master/listado-general.txt), cargamos todas las palabras del diccionario español. El sistema está creado para cualquier idioma, siempre que se tenga un listado de todas sus palabras."
   ]
  },
  {
   "cell_type": "code",
   "execution_count": 6,
   "metadata": {
    "collapsed": true
   },
   "outputs": [],
   "source": [
    "f = open('listado-general-palabras-esp.txt', encoding=\"utf-8\")\n",
    "dic_raw = f.read()\n",
    "f.close()"
   ]
  },
  {
   "cell_type": "code",
   "execution_count": 7,
   "metadata": {
    "collapsed": false
   },
   "outputs": [],
   "source": [
    "dic_esp = word_tokenize(dic_raw)"
   ]
  },
  {
   "cell_type": "markdown",
   "metadata": {},
   "source": [
    "El modelo que vamos a crear se basa en funciones de distancia. Concretamente definiremos 3 funciones que relacionamos con los errores más comunes a la hora de escribir.\n",
    "\n",
    "+ Distancia 1 (`d1`): Errores del tipo omitir una letra. Por ejemplo, \"huevo\" con \"uevo\" y \"tenedor\" con \"tenedo\".\n",
    "+ Distancia 2 (`d2`): Errores del tipo añadir una letra de más. Por ejemplo, \"cuarto\" con \"chuarto\".\n",
    "+ Distancia 3 (`d3`): Errores del tipo confundir una letra con otra. Por ejemplo, \"gitano\" con \"jitano\".\n",
    "\n",
    "Para este algoritmo, `d1` y `d2` reciben dos palabras, la que esta mal escrita, y una que podria ser su corrección. La función devolverá `True` o `False`.\n",
    "\n",
    "La función `d3` devolverá una lista de todas las palabras que se parezcan a la incorrecta.\n",
    "\n"
   ]
  },
  {
   "cell_type": "code",
   "execution_count": 8,
   "metadata": {
    "collapsed": false
   },
   "outputs": [],
   "source": [
    "def d1(word,correct_word):\n",
    "    if len(correct_word) == 1+len(word):\n",
    "        for i in range(len(correct_word)):\n",
    "            if (word == correct_word[:i] + correct_word[i+1 :]):\n",
    "                return(True)\n",
    "        return(False)\n",
    "    else:\n",
    "        return(False)"
   ]
  },
  {
   "cell_type": "code",
   "execution_count": 9,
   "metadata": {
    "collapsed": false
   },
   "outputs": [
    {
     "data": {
      "text/plain": [
       "True"
      ]
     },
     "execution_count": 9,
     "metadata": {},
     "output_type": "execute_result"
    }
   ],
   "source": [
    "d1(\"caa\",\"casa\")"
   ]
  },
  {
   "cell_type": "code",
   "execution_count": 10,
   "metadata": {
    "collapsed": false
   },
   "outputs": [
    {
     "data": {
      "text/plain": [
       "False"
      ]
     },
     "execution_count": 10,
     "metadata": {},
     "output_type": "execute_result"
    }
   ],
   "source": [
    "d1(\"cushara\", \"tenedor\")"
   ]
  },
  {
   "cell_type": "code",
   "execution_count": 11,
   "metadata": {
    "collapsed": true
   },
   "outputs": [],
   "source": [
    "def d2(word,correct_word):\n",
    "    return(d1(correct_word,word))"
   ]
  },
  {
   "cell_type": "code",
   "execution_count": 12,
   "metadata": {
    "collapsed": false
   },
   "outputs": [
    {
     "data": {
      "text/plain": [
       "True"
      ]
     },
     "execution_count": 12,
     "metadata": {},
     "output_type": "execute_result"
    }
   ],
   "source": [
    "d2(\"huesol\",\"hueso\")"
   ]
  },
  {
   "cell_type": "code",
   "execution_count": 13,
   "metadata": {
    "collapsed": false
   },
   "outputs": [
    {
     "data": {
      "text/plain": [
       "False"
      ]
     },
     "execution_count": 13,
     "metadata": {},
     "output_type": "execute_result"
    }
   ],
   "source": [
    "d2(\"esternocleidomastoideo\",\"supercalifragilisticoespialidoso\")"
   ]
  },
  {
   "cell_type": "code",
   "execution_count": 14,
   "metadata": {
    "collapsed": false
   },
   "outputs": [],
   "source": [
    "dic_letras = [\"a\",\"b\",\"c\",\"d\",\"e\",\"f\",\"g\",\"h\",\"i\",\"j\",\"k\",\"l\",\"m\",\"n\",\"ñ\",\"o\",\"p\",\"q\",\"r\",\"s\",\"t\",\"u\",\n",
    "              \"v\",\"w\",\"x\",\"y\",\"z\"]\n",
    "\n",
    "\n",
    "def d3(word,dic=dic_letras):\n",
    "    l =  []\n",
    "    for letter in dic:\n",
    "        for i in range(len(word)):\n",
    "            word_test = (word[:i] + letter + word[i+1 :])\n",
    "            if word_test in dic_esp:\n",
    "                l.append(word_test)\n",
    "    return(l)\n"
   ]
  },
  {
   "cell_type": "code",
   "execution_count": 15,
   "metadata": {
    "collapsed": false
   },
   "outputs": [
    {
     "data": {
      "text/plain": [
       "['caca',\n",
       " 'cada',\n",
       " 'caja',\n",
       " 'cala',\n",
       " 'cama',\n",
       " 'cana',\n",
       " 'caña',\n",
       " 'capa',\n",
       " 'cara',\n",
       " 'casa',\n",
       " 'cata',\n",
       " 'cava',\n",
       " 'caya',\n",
       " 'caza']"
      ]
     },
     "execution_count": 15,
     "metadata": {},
     "output_type": "execute_result"
    }
   ],
   "source": [
    "d3(\"cawa\")"
   ]
  },
  {
   "cell_type": "markdown",
   "metadata": {},
   "source": [
    "Implementamos la función que devuelve toda la lista de posibles correcciones de la palabra, si esta no se encuentra en el diccionario"
   ]
  },
  {
   "cell_type": "code",
   "execution_count": 16,
   "metadata": {
    "collapsed": false
   },
   "outputs": [],
   "source": [
    "def corrector_word(word,dic=dic_esp):\n",
    "    l = []\n",
    "    if word in dic_esp:\n",
    "        return([])\n",
    "    else:\n",
    "        for correct_word in dic:\n",
    "            if d1(correct_word,word):\n",
    "                l.append(correct_word)\n",
    "            if d2(word,correct_word):\n",
    "                l.append(correct_word)\n",
    "        arreglo = d3(word)\n",
    "        l += arreglo\n",
    "        return(set(l))"
   ]
  },
  {
   "cell_type": "code",
   "execution_count": 18,
   "metadata": {
    "collapsed": false
   },
   "outputs": [
    {
     "data": {
      "text/plain": [
       "{'bonito'}"
      ]
     },
     "execution_count": 18,
     "metadata": {},
     "output_type": "execute_result"
    }
   ],
   "source": [
    "corrector_word(\"vonito\")"
   ]
  },
  {
   "cell_type": "code",
   "execution_count": 19,
   "metadata": {
    "collapsed": false
   },
   "outputs": [
    {
     "data": {
      "text/plain": [
       "{'edificio'}"
      ]
     },
     "execution_count": 19,
     "metadata": {},
     "output_type": "execute_result"
    }
   ],
   "source": [
    "corrector_word(\"edifficio\")"
   ]
  },
  {
   "cell_type": "code",
   "execution_count": 24,
   "metadata": {
    "collapsed": false
   },
   "outputs": [
    {
     "data": {
      "text/plain": [
       "{'escalera'}"
      ]
     },
     "execution_count": 24,
     "metadata": {},
     "output_type": "execute_result"
    }
   ],
   "source": [
    "corrector_word(\"esclalera\")"
   ]
  },
  {
   "cell_type": "markdown",
   "metadata": {},
   "source": [
    "Y definimos la función `corrector_phase` que analiza todas las palabras por separado mediante `corrector_word` y en caso de que sean incorrectas, devuelve una lista de posibles correcciones. "
   ]
  },
  {
   "cell_type": "code",
   "execution_count": 25,
   "metadata": {
    "collapsed": false
   },
   "outputs": [],
   "source": [
    "def corrector_phrase(phrase):\n",
    "    word_list = word_tokenize(phrase)\n",
    "    i = 0\n",
    "    for word in word_list:\n",
    "        correct_words = corrector_word(word)\n",
    "        if correct_words != []:\n",
    "            i = 1\n",
    "            print(\"La palabra '{0}' es incorrecta, una posible corrección seria: '{1}' .\".format(word,correct_words))\n",
    "    if i == 0:\n",
    "        print(\"La frase está bien escrita\")\n",
    "    \n",
    "            "
   ]
  },
  {
   "cell_type": "code",
   "execution_count": 27,
   "metadata": {
    "collapsed": false
   },
   "outputs": [
    {
     "name": "stdout",
     "output_type": "stream",
     "text": [
      "La palabra 'eld' es incorrecta, una posible corrección seria: '{'el', 'ele'}' .\n",
      "La palabra 'pizo' es incorrecta, una posible corrección seria: '{'pino', 'piso', 'pazo', 'pijo', 'piño', 'pico', 'pilo', 'pipo', 'mizo', 'pito', 'lizo', 'rizo', 'pozo', 'tizo', 'piro'}' .\n",
      "La palabra 'ez' es incorrecta, una posible corrección seria: '{'z', 'ex', 'et', 'e', 'eh', 'el', 'en', 'ea'}' .\n",
      "La palabra 'mui' es incorrecta, una posible corrección seria: '{'tui', 'mus', 'mu', 'cui', 'qui', 'mi', 'muy', 'mur'}' .\n",
      "La palabra 'jrande' es incorrecta, una posible corrección seria: '{'grande'}' .\n"
     ]
    }
   ],
   "source": [
    "corrector_phrase(\"eld pizo ez mui jrande\")"
   ]
  },
  {
   "cell_type": "markdown",
   "metadata": {},
   "source": [
    "En caso de que hubiera alguna palabra que no estuviera en el diccionario, podemos usar la función `add_word` para añadirla, y así recibirla en futuras sugerencias."
   ]
  },
  {
   "cell_type": "code",
   "execution_count": 40,
   "metadata": {
    "collapsed": true
   },
   "outputs": [],
   "source": [
    "def add_word(word, dic=dic_esp):\n",
    "    dic = dic_esp.append(word)"
   ]
  },
  {
   "cell_type": "code",
   "execution_count": 41,
   "metadata": {
    "collapsed": true
   },
   "outputs": [],
   "source": [
    "add_word(\"bonita\")"
   ]
  }
 ],
 "metadata": {
  "anaconda-cloud": {},
  "kernelspec": {
   "display_name": "Python [conda root]",
   "language": "python",
   "name": "conda-root-py"
  },
  "language_info": {
   "codemirror_mode": {
    "name": "ipython",
    "version": 3
   },
   "file_extension": ".py",
   "mimetype": "text/x-python",
   "name": "python",
   "nbconvert_exporter": "python",
   "pygments_lexer": "ipython3",
   "version": "3.5.2"
  }
 },
 "nbformat": 4,
 "nbformat_minor": 1
}
